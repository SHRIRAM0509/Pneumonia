{
  "nbformat": 4,
  "nbformat_minor": 0,
  "metadata": {
    "colab": {
      "name": "chest_xray.ipynb",
      "provenance": [],
      "collapsed_sections": []
    },
    "kernelspec": {
      "name": "python3",
      "display_name": "Python 3"
    },
    "accelerator": "GPU"
  },
  "cells": [
    {
      "cell_type": "markdown",
      "metadata": {
        "id": "ZOJ62vs1h4bC",
        "colab_type": "text"
      },
      "source": [
        "# **PREDICTING PNEUMONIA USING CHEST XRAY IMAGES**"
      ]
    },
    {
      "cell_type": "markdown",
      "metadata": {
        "id": "IYS3jLY-jVsI",
        "colab_type": "text"
      },
      "source": [
        "\n",
        "## **Key facts**\n",
        "\n",
        "    1. Pneumonia accounts for 15% of all deaths of children under 5 years old, killing 808 694 children in 2017\n",
        "    2. Pneumonia can be caused by viruses, bacteria, or fungi.\n",
        "    3. Pneumonia can be prevented by immunization, adequate nutrition, and by addressing environmental factors.\n",
        "    4. Pneumonia caused by bacteria can be treated with antibiotics, but only one third of children with pneumonia receive the antibiotics they need.\n",
        "\n",
        "## **Pneumonia - Defined By WHO**\n",
        "\n",
        "Pneumonia is a form of **acute respiratory infection that affects the lungs**. The lungs are made up of small sacs called alveoli, which fill with air when a healthy person breathes. When an individual has pneumonia, the alveoli are filled with pus and fluid, which makes breathing painful and limits oxygen intake.\n",
        "\n",
        "Pneumonia is the single largest infectious cause of death in children worldwide. **Pneumonia killed 808 694 children under the age of 5 in 2017**, accounting for 15% of all deaths of children under five years old. Pneumonia affects children and families everywhere, but is **most prevalent in South Asia and sub-Saharan Africa**. Children can be protected from pneumonia, it can be prevented with simple interventions, and treated with low-cost, low-tech medication and care.\n",
        "Causes\n",
        "\n",
        "Pneumonia is caused by a number of infectious agents, including viruses, bacteria and fungi. The most common are:\n",
        "\n",
        "    1. Streptococcus pneumoniae – the most common cause of bacterial pneumonia in children;\n",
        "    2. Haemophilus influenzae type b (Hib) – the second most common cause of bacterial pneumonia;\n",
        "    3. respiratory syncytial virus is the most common viral cause of pneumonia;\n",
        "    4. in infants infected with HIV, Pneumocystis jiroveci is one of the most common causes of pneumonia, responsible for at least one quarter of all pneumonia deaths in HIV-infected infants.\n",
        "\n",
        "## **Transmission**\n",
        "\n",
        "Pneumonia can be spread in a number of ways. The viruses and bacteria that are commonly found in a child's nose or throat, can infect the lungs if they are inhaled. They may also spread via air-borne droplets from a cough or sneeze. In addition, pneumonia may spread through blood, especially during and shortly after birth. More research needs to be done on the different pathogens causing pneumonia and the ways they are transmitted, as this is of critical importance for treatment and prevention."
      ]
    },
    {
      "cell_type": "markdown",
      "metadata": {
        "id": "am_B5n53k9Dz",
        "colab_type": "text"
      },
      "source": [
        "### The below picture visualizes how an xray image can be used to find if a person has pneumonia or not"
      ]
    },
    {
      "cell_type": "markdown",
      "metadata": {
        "id": "4A-ndN14iLQy",
        "colab_type": "text"
      },
      "source": [
        "### ![PNEUMONIA DIAGNOSED IN A PATIENT](https://assets.aboutkidshealth.ca/akhassets/Pneumonia_XRAY_MEDIMG_PHO_EN.png?RenditionID=19)\n"
      ]
    },
    {
      "cell_type": "markdown",
      "metadata": {
        "id": "0dCWiHmWlKWm",
        "colab_type": "text"
      },
      "source": [
        "## Google Colab initialization"
      ]
    },
    {
      "cell_type": "code",
      "metadata": {
        "id": "SL1UfdGDT3LD",
        "colab_type": "code",
        "colab": {}
      },
      "source": [
        "from google.colab import files"
      ],
      "execution_count": 0,
      "outputs": []
    },
    {
      "cell_type": "code",
      "metadata": {
        "id": "ekG7rAQQ0jds",
        "colab_type": "code",
        "outputId": "272741a9-1e72-440e-abec-33f3b97a75d7",
        "colab": {
          "base_uri": "https://localhost:8080/",
          "height": 263
        }
      },
      "source": [
        "!pip install pydrive"
      ],
      "execution_count": 2,
      "outputs": [
        {
          "output_type": "stream",
          "text": [
            "Requirement already satisfied: pydrive in /usr/local/lib/python3.6/dist-packages (1.3.1)\n",
            "Requirement already satisfied: oauth2client>=4.0.0 in /usr/local/lib/python3.6/dist-packages (from pydrive) (4.1.3)\n",
            "Requirement already satisfied: PyYAML>=3.0 in /usr/local/lib/python3.6/dist-packages (from pydrive) (3.13)\n",
            "Requirement already satisfied: google-api-python-client>=1.2 in /usr/local/lib/python3.6/dist-packages (from pydrive) (1.7.11)\n",
            "Requirement already satisfied: pyasn1-modules>=0.0.5 in /usr/local/lib/python3.6/dist-packages (from oauth2client>=4.0.0->pydrive) (0.2.6)\n",
            "Requirement already satisfied: pyasn1>=0.1.7 in /usr/local/lib/python3.6/dist-packages (from oauth2client>=4.0.0->pydrive) (0.4.7)\n",
            "Requirement already satisfied: six>=1.6.1 in /usr/local/lib/python3.6/dist-packages (from oauth2client>=4.0.0->pydrive) (1.12.0)\n",
            "Requirement already satisfied: rsa>=3.1.4 in /usr/local/lib/python3.6/dist-packages (from oauth2client>=4.0.0->pydrive) (4.0)\n",
            "Requirement already satisfied: httplib2>=0.9.1 in /usr/local/lib/python3.6/dist-packages (from oauth2client>=4.0.0->pydrive) (0.11.3)\n",
            "Requirement already satisfied: uritemplate<4dev,>=3.0.0 in /usr/local/lib/python3.6/dist-packages (from google-api-python-client>=1.2->pydrive) (3.0.0)\n",
            "Requirement already satisfied: google-auth>=1.4.1 in /usr/local/lib/python3.6/dist-packages (from google-api-python-client>=1.2->pydrive) (1.4.2)\n",
            "Requirement already satisfied: google-auth-httplib2>=0.0.3 in /usr/local/lib/python3.6/dist-packages (from google-api-python-client>=1.2->pydrive) (0.0.3)\n",
            "Requirement already satisfied: cachetools>=2.0.0 in /usr/local/lib/python3.6/dist-packages (from google-auth>=1.4.1->google-api-python-client>=1.2->pydrive) (3.1.1)\n"
          ],
          "name": "stdout"
        }
      ]
    },
    {
      "cell_type": "markdown",
      "metadata": {
        "id": "vWp9ly_fUFcJ",
        "colab_type": "text"
      },
      "source": [
        "## Authenticating"
      ]
    },
    {
      "cell_type": "code",
      "metadata": {
        "id": "xS0EMnxk00DC",
        "colab_type": "code",
        "colab": {}
      },
      "source": [
        "import os\n",
        "from pydrive.auth import GoogleAuth\n",
        "from pydrive.drive import GoogleDrive\n",
        "from google.colab import auth\n",
        "from oauth2client.client import GoogleCredentials"
      ],
      "execution_count": 0,
      "outputs": []
    },
    {
      "cell_type": "code",
      "metadata": {
        "id": "hRC0eafw1Ohg",
        "colab_type": "code",
        "colab": {}
      },
      "source": [
        "auth.authenticate_user()\n",
        "gauth=GoogleAuth()\n",
        "gauth.credentials = GoogleCredentials.get_application_default()\n",
        "drive = GoogleDrive(gauth)"
      ],
      "execution_count": 0,
      "outputs": []
    },
    {
      "cell_type": "code",
      "metadata": {
        "id": "kEi8qVBy15bn",
        "colab_type": "code",
        "colab": {}
      },
      "source": [
        "download = drive.CreateFile({'id':'1pUxh3rxNVRtMwI4lH4iJIWUFjgbsrmKP'})\n",
        "download.GetContentFile('chest-xray-pneumonia.zip')"
      ],
      "execution_count": 0,
      "outputs": []
    },
    {
      "cell_type": "code",
      "metadata": {
        "id": "Z6OYTBY74drO",
        "colab_type": "code",
        "colab": {}
      },
      "source": [
        "import zipfile\n",
        "\n",
        "with zipfile.ZipFile('chest-xray-pneumonia.zip', 'r') as zip_ref:\n",
        "    zip_ref.extractall()\n",
        "\n",
        "zip_ref.close()"
      ],
      "execution_count": 0,
      "outputs": []
    },
    {
      "cell_type": "code",
      "metadata": {
        "id": "XzLcEbIT2hHe",
        "colab_type": "code",
        "colab": {}
      },
      "source": [
        "import zipfile\n",
        "\n",
        "with zipfile.ZipFile('chest_xray.zip', 'r') as zip_ref:\n",
        "    zip_ref.extractall()\n",
        "\n",
        "zip_ref.close()"
      ],
      "execution_count": 0,
      "outputs": []
    },
    {
      "cell_type": "code",
      "metadata": {
        "id": "ciZqeLZD3k-r",
        "colab_type": "code",
        "outputId": "416d7367-fcb7-4862-843c-699a8a1d2bc1",
        "colab": {
          "base_uri": "https://localhost:8080/",
          "height": 52
        }
      },
      "source": [
        "!ls"
      ],
      "execution_count": 8,
      "outputs": [
        {
          "output_type": "stream",
          "text": [
            "adc.json    chest-xray-pneumonia.zip  __MACOSX\n",
            "chest_xray  chest_xray.zip\t      sample_data\n"
          ],
          "name": "stdout"
        }
      ]
    },
    {
      "cell_type": "code",
      "metadata": {
        "id": "3RAVk6n142AX",
        "colab_type": "code",
        "outputId": "e5ea81ff-5e95-444d-ab75-cce43e9b3923",
        "colab": {
          "base_uri": "https://localhost:8080/",
          "height": 52
        }
      },
      "source": [
        "import os\n",
        "print(\"There are {} pneumonia images\".format(len(os.listdir(\"chest_xray/train/PNEUMONIA\"))))\n",
        "print(\"There are {} normal images\".format(len(os.listdir(\"chest_xray/train/NORMAL\"))))"
      ],
      "execution_count": 9,
      "outputs": [
        {
          "output_type": "stream",
          "text": [
            "There are 3876 pneumonia images\n",
            "There are 1342 normal images\n"
          ],
          "name": "stdout"
        }
      ]
    },
    {
      "cell_type": "code",
      "metadata": {
        "id": "4jqyD7Cs0Qvy",
        "colab_type": "code",
        "outputId": "f84aa666-a96d-43a1-aeff-690c63111970",
        "colab": {
          "base_uri": "https://localhost:8080/",
          "height": 34
        }
      },
      "source": [
        "os.listdir(\"chest_xray/train/NORMAL\")[0]"
      ],
      "execution_count": 10,
      "outputs": [
        {
          "output_type": "execute_result",
          "data": {
            "text/plain": [
              "'NORMAL2-IM-1138-0001.jpeg'"
            ]
          },
          "metadata": {
            "tags": []
          },
          "execution_count": 10
        }
      ]
    },
    {
      "cell_type": "code",
      "metadata": {
        "id": "4HPVWIzrOo_x",
        "colab_type": "code",
        "colab": {}
      },
      "source": [
        "import cv2\n",
        "import matplotlib.pyplot as plt"
      ],
      "execution_count": 0,
      "outputs": []
    },
    {
      "cell_type": "markdown",
      "metadata": {
        "id": "r5lntzCGUXOH",
        "colab_type": "text"
      },
      "source": [
        "# Viewing Sample images"
      ]
    },
    {
      "cell_type": "code",
      "metadata": {
        "id": "L3vuH4IGz0XP",
        "colab_type": "code",
        "outputId": "c0cae372-e668-46b3-bff1-ba1cf7461ee0",
        "colab": {
          "base_uri": "https://localhost:8080/",
          "height": 556
        }
      },
      "source": [
        "img = cv2.imread('chest_xray/train/PNEUMONIA/person1170_virus_1970.jpeg')\n",
        "img2 = cv2.imread('chest_xray/train/NORMAL/NORMAL2-IM-1138-0001.jpeg')\n",
        "img = cv2.resize(img,(64,64))/255\n",
        "img2 = cv2.resize(img2,(64,64))/255\n",
        "print(\"Pneumonia lungs\")\n",
        "plt.imshow(img)\n",
        "plt.show()\n",
        "print(\"Normal lungs\")\n",
        "plt.imshow(img2)\n",
        "plt.show()"
      ],
      "execution_count": 12,
      "outputs": [
        {
          "output_type": "stream",
          "text": [
            "Pneumonia lungs\n"
          ],
          "name": "stdout"
        },
        {
          "output_type": "display_data",
          "data": {
            "image/png": "[encoded data removed]",
            "text/plain": [
              "<Figure size 432x288 with 1 Axes>"
            ]
          },
          "metadata": {
            "tags": []
          }
        },
        {
          "output_type": "stream",
          "text": [
            "Normal lungs\n"
          ],
          "name": "stdout"
        },
        {
          "output_type": "display_data",
          "data": {
            "image/png": "[encoded data removed]",
            "text/plain": [
              "<Figure size 432x288 with 1 Axes>"
            ]
          },
          "metadata": {
            "tags": []
          }
        }
      ]
    },
    {
      "cell_type": "markdown",
      "metadata": {
        "id": "MD2d6IjqUhVJ",
        "colab_type": "text"
      },
      "source": [
        "# CREATING THE MODEL"
      ]
    },
    {
      "cell_type": "code",
      "metadata": {
        "id": "H62ykB7xRvHM",
        "colab_type": "code",
        "outputId": "53be7df2-78d6-4d17-f516-ca3b6d05afd8",
        "colab": {
          "base_uri": "https://localhost:8080/",
          "height": 34
        }
      },
      "source": [
        "from keras.models import Sequential\n",
        "from keras.layers import Dense, Dropout, Activation, Flatten\n",
        "from keras.layers.convolutional import Conv2D\n",
        "from keras.layers.pooling import MaxPooling2D\n",
        "from keras.layers.merge import concatenate\n",
        "from keras.optimizers import Adam,SGD\n",
        "from keras.layers import Input\n",
        "from keras.models import Model"
      ],
      "execution_count": 13,
      "outputs": [
        {
          "output_type": "stream",
          "text": [
            "Using TensorFlow backend.\n"
          ],
          "name": "stderr"
        }
      ]
    },
    {
      "cell_type": "code",
      "metadata": {
        "id": "r9o9pyvOTb0X",
        "colab_type": "code",
        "colab": {}
      },
      "source": [
        "import warnings\n",
        "warnings.filterwarnings(\"ignore\")"
      ],
      "execution_count": 0,
      "outputs": []
    },
    {
      "cell_type": "code",
      "metadata": {
        "id": "4AkPNzXDSe4j",
        "colab_type": "code",
        "outputId": "6c8b2c02-8407-4889-b867-2801fba90c4b",
        "colab": {
          "base_uri": "https://localhost:8080/",
          "height": 72
        }
      },
      "source": [
        "model = Sequential()"
      ],
      "execution_count": 15,
      "outputs": [
        {
          "output_type": "stream",
          "text": [
            "WARNING:tensorflow:From /usr/local/lib/python3.6/dist-packages/keras/backend/tensorflow_backend.py:66: The name tf.get_default_graph is deprecated. Please use tf.compat.v1.get_default_graph instead.\n",
            "\n"
          ],
          "name": "stdout"
        }
      ]
    },
    {
      "cell_type": "code",
      "metadata": {
        "id": "YQthBHewSjHh",
        "colab_type": "code",
        "outputId": "02bfc55b-b299-4542-ff1b-269bcef98939",
        "colab": {
          "base_uri": "https://localhost:8080/",
          "height": 228
        }
      },
      "source": [
        "ip = Input(shape=(64,64,3))\n",
        "conv1 = Conv2D(32,kernel_size=(3,3))(ip)\n",
        "mp1 = MaxPooling2D()(conv1)\n",
        "d1 = Dropout(0.2)(mp1)\n",
        "conv2 = Conv2D(64,kernel_size=(3,3))(d1)\n",
        "mp2 = MaxPooling2D()(conv2)\n",
        "d2 = Dropout(0.2)(mp2)\n",
        "conv3 = Conv2D(128,kernel_size=(3,3))(d2)\n",
        "mp3 = MaxPooling2D()(conv3)\n",
        "d3 = Dropout(0.2)(mp3)\n",
        "f = Flatten()(mp3)"
      ],
      "execution_count": 16,
      "outputs": [
        {
          "output_type": "stream",
          "text": [
            "WARNING:tensorflow:From /usr/local/lib/python3.6/dist-packages/keras/backend/tensorflow_backend.py:541: The name tf.placeholder is deprecated. Please use tf.compat.v1.placeholder instead.\n",
            "\n",
            "WARNING:tensorflow:From /usr/local/lib/python3.6/dist-packages/keras/backend/tensorflow_backend.py:4432: The name tf.random_uniform is deprecated. Please use tf.random.uniform instead.\n",
            "\n",
            "WARNING:tensorflow:From /usr/local/lib/python3.6/dist-packages/keras/backend/tensorflow_backend.py:4267: The name tf.nn.max_pool is deprecated. Please use tf.nn.max_pool2d instead.\n",
            "\n",
            "WARNING:tensorflow:From /usr/local/lib/python3.6/dist-packages/keras/backend/tensorflow_backend.py:148: The name tf.placeholder_with_default is deprecated. Please use tf.compat.v1.placeholder_with_default instead.\n",
            "\n",
            "WARNING:tensorflow:From /usr/local/lib/python3.6/dist-packages/keras/backend/tensorflow_backend.py:3733: calling dropout (from tensorflow.python.ops.nn_ops) with keep_prob is deprecated and will be removed in a future version.\n",
            "Instructions for updating:\n",
            "Please use `rate` instead of `keep_prob`. Rate should be set to `rate = 1 - keep_prob`.\n"
          ],
          "name": "stdout"
        }
      ]
    },
    {
      "cell_type": "code",
      "metadata": {
        "id": "bg5uJDgpTQD-",
        "colab_type": "code",
        "colab": {}
      },
      "source": [
        "h1 = Dense(128,activation='relu')(f)\n",
        "h2 = Dense(64,activation='relu')(h1)\n",
        "h3 = Dropout(0.4)(h2)\n",
        "h4 = Dense(16,activation='relu')(h3)\n",
        "op1 = Dense(1,activation='sigmoid')(h4)\n",
        "model = Model(inputs=ip, outputs=op1)"
      ],
      "execution_count": 0,
      "outputs": []
    },
    {
      "cell_type": "code",
      "metadata": {
        "id": "JNrAkwQtUEEt",
        "colab_type": "code",
        "colab": {}
      },
      "source": [
        "sgd = SGD(lr=0.01, momentum=0.9, decay=0.000005, nesterov=False)"
      ],
      "execution_count": 0,
      "outputs": []
    },
    {
      "cell_type": "code",
      "metadata": {
        "id": "OavTJKX_UJiT",
        "colab_type": "code",
        "outputId": "48f4723a-9850-4890-da0e-86d00216fdcc",
        "colab": {
          "base_uri": "https://localhost:8080/",
          "height": 159
        }
      },
      "source": [
        "model.compile(loss='binary_crossentropy', optimizer='adam', metrics=['accuracy'])"
      ],
      "execution_count": 19,
      "outputs": [
        {
          "output_type": "stream",
          "text": [
            "WARNING:tensorflow:From /usr/local/lib/python3.6/dist-packages/keras/optimizers.py:793: The name tf.train.Optimizer is deprecated. Please use tf.compat.v1.train.Optimizer instead.\n",
            "\n",
            "WARNING:tensorflow:From /usr/local/lib/python3.6/dist-packages/keras/backend/tensorflow_backend.py:3657: The name tf.log is deprecated. Please use tf.math.log instead.\n",
            "\n",
            "WARNING:tensorflow:From /usr/local/lib/python3.6/dist-packages/tensorflow/python/ops/nn_impl.py:180: add_dispatch_support.<locals>.wrapper (from tensorflow.python.ops.array_ops) is deprecated and will be removed in a future version.\n",
            "Instructions for updating:\n",
            "Use tf.where in 2.0, which has the same broadcast rule as np.where\n"
          ],
          "name": "stdout"
        }
      ]
    },
    {
      "cell_type": "code",
      "metadata": {
        "id": "36yigUgeCy0u",
        "colab_type": "code",
        "outputId": "d279964e-2582-4f2e-f47c-782809248a46",
        "colab": {
          "base_uri": "https://localhost:8080/",
          "height": 69
        }
      },
      "source": [
        "from keras.utils import to_categorical\n",
        "from keras.preprocessing.image import ImageDataGenerator\n",
        "num_classes = 2\n",
        "epochs = 5\n",
        "image_width = 64\n",
        "image_height = 64\n",
        "batch_size = 64\n",
        "train_datagen = ImageDataGenerator(rescale=1./255,\n",
        "                                   rotation_range=15,\n",
        "                                   shear_range=0.2,\n",
        "                                   zoom_range=0.2\n",
        "                                   )\n",
        "\n",
        "test_datagen = ImageDataGenerator(rescale=1./255)\n",
        "\n",
        "training_set = train_datagen.flow_from_directory('chest_xray/train/',\n",
        "                                                 target_size=(image_width, image_height),\n",
        "                                                 batch_size=batch_size,\n",
        "                                                 class_mode='binary')\n",
        "\n",
        "test_set = test_datagen.flow_from_directory('chest_xray/test/',\n",
        "                                            target_size=(image_width, image_height),\n",
        "                                            batch_size=batch_size,\n",
        "                                            class_mode='binary')\n",
        "\n",
        "val_set = test_datagen.flow_from_directory('chest_xray/val',\n",
        "                                            target_size=(image_width, image_height),\n",
        "                                            batch_size=1,\n",
        "                                            shuffle=False,\n",
        "                                            class_mode='binary')"
      ],
      "execution_count": 20,
      "outputs": [
        {
          "output_type": "stream",
          "text": [
            "Found 5216 images belonging to 2 classes.\n",
            "Found 624 images belonging to 2 classes.\n",
            "Found 16 images belonging to 2 classes.\n"
          ],
          "name": "stdout"
        }
      ]
    },
    {
      "cell_type": "code",
      "metadata": {
        "id": "LCka5JFDK78T",
        "colab_type": "code",
        "outputId": "71050c53-b583-4cbc-9202-4b3fecba13c9",
        "colab": {
          "base_uri": "https://localhost:8080/",
          "height": 677
        }
      },
      "source": [
        "model.summary()"
      ],
      "execution_count": 21,
      "outputs": [
        {
          "output_type": "stream",
          "text": [
            "Model: \"model_1\"\n",
            "_________________________________________________________________\n",
            "Layer (type)                 Output Shape              Param #   \n",
            "=================================================================\n",
            "input_1 (InputLayer)         (None, 64, 64, 3)         0         \n",
            "_________________________________________________________________\n",
            "conv2d_1 (Conv2D)            (None, 62, 62, 32)        896       \n",
            "_________________________________________________________________\n",
            "max_pooling2d_1 (MaxPooling2 (None, 31, 31, 32)        0         \n",
            "_________________________________________________________________\n",
            "dropout_1 (Dropout)          (None, 31, 31, 32)        0         \n",
            "_________________________________________________________________\n",
            "conv2d_2 (Conv2D)            (None, 29, 29, 64)        18496     \n",
            "_________________________________________________________________\n",
            "max_pooling2d_2 (MaxPooling2 (None, 14, 14, 64)        0         \n",
            "_________________________________________________________________\n",
            "dropout_2 (Dropout)          (None, 14, 14, 64)        0         \n",
            "_________________________________________________________________\n",
            "conv2d_3 (Conv2D)            (None, 12, 12, 128)       73856     \n",
            "_________________________________________________________________\n",
            "max_pooling2d_3 (MaxPooling2 (None, 6, 6, 128)         0         \n",
            "_________________________________________________________________\n",
            "flatten_1 (Flatten)          (None, 4608)              0         \n",
            "_________________________________________________________________\n",
            "dense_1 (Dense)              (None, 128)               589952    \n",
            "_________________________________________________________________\n",
            "dense_2 (Dense)              (None, 64)                8256      \n",
            "_________________________________________________________________\n",
            "dropout_4 (Dropout)          (None, 64)                0         \n",
            "_________________________________________________________________\n",
            "dense_3 (Dense)              (None, 16)                1040      \n",
            "_________________________________________________________________\n",
            "dense_4 (Dense)              (None, 1)                 17        \n",
            "=================================================================\n",
            "Total params: 692,513\n",
            "Trainable params: 692,513\n",
            "Non-trainable params: 0\n",
            "_________________________________________________________________\n"
          ],
          "name": "stdout"
        }
      ]
    },
    {
      "cell_type": "code",
      "metadata": {
        "id": "uO0qtB4WdKUU",
        "colab_type": "code",
        "outputId": "3058598b-44d4-4133-c377-dcb37720ad47",
        "colab": {
          "base_uri": "https://localhost:8080/",
          "height": 191
        }
      },
      "source": [
        "gen = model.fit_generator(training_set,\n",
        "                    steps_per_epoch=5216//batch_size,\n",
        "                    epochs=epochs,\n",
        "                    validation_data=test_set,\n",
        "                    validation_steps=624//batch_size\n",
        "                   )"
      ],
      "execution_count": 22,
      "outputs": [
        {
          "output_type": "stream",
          "text": [
            "Epoch 1/5\n",
            "81/81 [==============================] - 68s 836ms/step - loss: 0.5090 - acc: 0.7568 - val_loss: 0.4208 - val_acc: 0.8212\n",
            "Epoch 2/5\n",
            "81/81 [==============================] - 66s 809ms/step - loss: 0.3225 - acc: 0.8578 - val_loss: 0.3318 - val_acc: 0.8518\n",
            "Epoch 3/5\n",
            "81/81 [==============================] - 64s 795ms/step - loss: 0.2559 - acc: 0.8893 - val_loss: 0.3203 - val_acc: 0.8625\n",
            "Epoch 4/5\n",
            "81/81 [==============================] - 64s 789ms/step - loss: 0.2272 - acc: 0.9072 - val_loss: 0.2348 - val_acc: 0.9054\n",
            "Epoch 5/5\n",
            "81/81 [==============================] - 63s 776ms/step - loss: 0.1917 - acc: 0.9240 - val_loss: 0.3018 - val_acc: 0.8714\n"
          ],
          "name": "stdout"
        }
      ]
    },
    {
      "cell_type": "markdown",
      "metadata": {
        "id": "QyRvsyeWUo2U",
        "colab_type": "text"
      },
      "source": [
        "# ACCURACY"
      ]
    },
    {
      "cell_type": "code",
      "metadata": {
        "id": "I0Fm1GuTxinB",
        "colab_type": "code",
        "outputId": "bb9a7a74-adf0-4ebd-b906-ddf03c189e4c",
        "colab": {
          "base_uri": "https://localhost:8080/",
          "height": 545
        }
      },
      "source": [
        "acc = gen.history['acc']\n",
        "val_acc = gen.history['val_acc']\n",
        "loss = gen.history['loss']\n",
        "val_loss = gen.history['val_loss']\n",
        "epochs = range(1, len(acc) + 1)\n",
        "plt.plot(epochs, acc, 'bo', label='Training acc')\n",
        "plt.plot(epochs, val_acc, 'b', label='Validation acc')\n",
        "plt.title('Training and validation accuracy')\n",
        "plt.legend()\n",
        "plt.figure()\n",
        "plt.plot(epochs, loss, 'bo', label='Training loss')\n",
        "plt.plot(epochs, val_loss, 'b', label='Validation loss')\n",
        "plt.title('Training and validation loss')\n",
        "plt.legend()\n",
        "plt.show()"
      ],
      "execution_count": 23,
      "outputs": [
        {
          "output_type": "display_data",
          "data": {
            "image/png": "[encoded data removed]",
            "text/plain": [
              "<Figure size 432x288 with 1 Axes>"
            ]
          },
          "metadata": {
            "tags": []
          }
        },
        {
          "output_type": "display_data",
          "data": {
            "image/png": "[encoded data removed]",
            "text/plain": [
              "<Figure size 432x288 with 1 Axes>"
            ]
          },
          "metadata": {
            "tags": []
          }
        }
      ]
    },
    {
      "cell_type": "markdown",
      "metadata": {
        "id": "Xe7peNeHUygl",
        "colab_type": "text"
      },
      "source": [
        "# UNDERSTANDING INTERMEDIATE LAYERS BY VISUALIZING"
      ]
    },
    {
      "cell_type": "code",
      "metadata": {
        "id": "PTbvTmlf6tMe",
        "colab_type": "code",
        "outputId": "3206aa08-5275-40aa-bf42-d1336e7aa742",
        "colab": {
          "base_uri": "https://localhost:8080/",
          "height": 286
        }
      },
      "source": [
        "g_img = []\n",
        "import numpy as np\n",
        "dir = 'chest_xray/train/PNEUMONIA'\n",
        "for filename in os.listdir(dir):\n",
        "    try:\n",
        "        img = cv2.imread(os.path.join(dir,filename))\n",
        "        img = cv2.resize(img,(64,64))/255\n",
        "        # img = np.array(img)\n",
        "        g_img.append(img)\n",
        "    except:\n",
        "        pass\n",
        "plt.imshow(g_img[0])"
      ],
      "execution_count": 24,
      "outputs": [
        {
          "output_type": "execute_result",
          "data": {
            "text/plain": [
              "<matplotlib.image.AxesImage at 0x7f8ddb196080>"
            ]
          },
          "metadata": {
            "tags": []
          },
          "execution_count": 24
        },
        {
          "output_type": "display_data",
          "data": {
            "image/png": "[encoded data removed]",
            "text/plain": [
              "<Figure size 432x288 with 1 Axes>"
            ]
          },
          "metadata": {
            "tags": []
          }
        }
      ]
    },
    {
      "cell_type": "code",
      "metadata": {
        "id": "EDSECo0OJREE",
        "colab_type": "code",
        "outputId": "8bf8e34e-81e6-48a6-db7e-5893b759a02a",
        "colab": {
          "base_uri": "https://localhost:8080/",
          "height": 34
        }
      },
      "source": [
        "g_img = np.array(g_img)\n",
        "g_img[0].shape"
      ],
      "execution_count": 25,
      "outputs": [
        {
          "output_type": "execute_result",
          "data": {
            "text/plain": [
              "(64, 64, 3)"
            ]
          },
          "metadata": {
            "tags": []
          },
          "execution_count": 25
        }
      ]
    },
    {
      "cell_type": "code",
      "metadata": {
        "id": "mzJ8LmEU2XTm",
        "colab_type": "code",
        "colab": {}
      },
      "source": [
        "inputs = model.input\n",
        "outputs = [layer.output for layer in model.layers][1:]\n",
        "activations = Model(inputs, outputs)\n",
        "pred = activations.predict(np.expand_dims(img, axis=0))"
      ],
      "execution_count": 0,
      "outputs": []
    },
    {
      "cell_type": "code",
      "metadata": {
        "id": "SN0muAqxNeGM",
        "colab_type": "code",
        "colab": {}
      },
      "source": [
        "names = [ layer.name for layer in model.layers]"
      ],
      "execution_count": 0,
      "outputs": []
    },
    {
      "cell_type": "code",
      "metadata": {
        "id": "y1UIJEGhMEZ6",
        "colab_type": "code",
        "outputId": "a666291d-ee0f-4ebc-c508-7290bc1b87bd",
        "colab": {
          "base_uri": "https://localhost:8080/",
          "height": 582
        }
      },
      "source": [
        "print(\"The output image for all the conv layers\")\n",
        "fig = plt.figure(figsize=(12,12))\n",
        "for i in range(8):\n",
        "    ax = fig.add_subplot(2,4,i+1)\n",
        "    ax.title.set_text(names[i+1])\n",
        "    ax.imshow(pred[i][0, :, :, 4])"
      ],
      "execution_count": 28,
      "outputs": [
        {
          "output_type": "stream",
          "text": [
            "The output image for all the conv layers\n"
          ],
          "name": "stdout"
        },
        {
          "output_type": "display_data",
          "data": {
            "image/png": "[encoded data removed]",
            "text/plain": [
              "<Figure size 864x864 with 8 Axes>"
            ]
          },
          "metadata": {
            "tags": []
          }
        }
      ]
    },
    {
      "cell_type": "markdown",
      "metadata": {
        "id": "9t8UQ7SZWVE-",
        "colab_type": "text"
      },
      "source": [
        "# PREDICTING SAMPLES"
      ]
    },
    {
      "cell_type": "code",
      "metadata": {
        "id": "c16__ptPbmsi",
        "colab_type": "code",
        "outputId": "9e923360-1f77-4fd8-c7e8-2ea02768ab68",
        "colab": {
          "base_uri": "https://localhost:8080/",
          "height": 173
        }
      },
      "source": [
        "os.listdir('chest_xray/val/NORMAL/')"
      ],
      "execution_count": 29,
      "outputs": [
        {
          "output_type": "execute_result",
          "data": {
            "text/plain": [
              "['NORMAL2-IM-1431-0001.jpeg',\n",
              " 'NORMAL2-IM-1438-0001.jpeg',\n",
              " 'NORMAL2-IM-1442-0001.jpeg',\n",
              " 'NORMAL2-IM-1427-0001.jpeg',\n",
              " 'NORMAL2-IM-1440-0001.jpeg',\n",
              " 'NORMAL2-IM-1437-0001.jpeg',\n",
              " '.DS_Store',\n",
              " 'NORMAL2-IM-1436-0001.jpeg',\n",
              " 'NORMAL2-IM-1430-0001.jpeg']"
            ]
          },
          "metadata": {
            "tags": []
          },
          "execution_count": 29
        }
      ]
    },
    {
      "cell_type": "code",
      "metadata": {
        "id": "6W07GeskWMUC",
        "colab_type": "code",
        "outputId": "442881ed-9cba-4f66-bf68-53608164e4c1",
        "colab": {
          "base_uri": "https://localhost:8080/",
          "height": 104
        }
      },
      "source": [
        "img = cv2.imread('chest_xray/val/PNEUMONIA/person1951_bacteria_4882.jpeg')\n",
        "img = cv2.resize(img,(64,64))/255\n",
        "pred = model.predict(np.expand_dims(img, axis=0))\n",
        "print(\"Pneumonia: Expected class - 1 ; Predicted class - {}\".format(np.round(pred)))\n",
        "\n",
        "img = cv2.imread('chest_xray/val/PNEUMONIA/person1946_bacteria_4874.jpeg')\n",
        "img = cv2.resize(img,(64,64))/255\n",
        "pred = model.predict(np.expand_dims(img, axis=0))\n",
        "print(\"Pneumonia: Expected class - 1 ; Predicted class - {}\".format(np.round(pred)))\n",
        "\n",
        "img = cv2.imread('chest_xray/val/NORMAL/NORMAL2-IM-1442-0001.jpeg')\n",
        "img = cv2.resize(img,(64,64))/255\n",
        "pred = model.predict(np.expand_dims(img, axis=0))\n",
        "print(\"NORMAL: Expected class - 0 ; Predicted class - {}\".format(np.round(pred)))\n",
        "\n",
        "img = cv2.imread('chest_xray/val/NORMAL/NORMAL2-IM-1440-0001.jpeg')\n",
        "img = cv2.resize(img,(64,64))/255\n",
        "pred = model.predict(np.expand_dims(img, axis=0))\n",
        "print(\"NORMAL: Expected class - 0 ; Predicted class - {}\".format(np.round(pred)))\n",
        "\n",
        "img = cv2.imread('chest_xray/val/NORMAL/NORMAL2-IM-1431-0001.jpeg')\n",
        "img = cv2.resize(img,(64,64))/255\n",
        "pred = model.predict(np.expand_dims(img, axis=0))\n",
        "print(\"One of the instances where the model fails => NORMAL: Expected class - 0 ; Predicted class - {}\".format(np.round(pred)))"
      ],
      "execution_count": 30,
      "outputs": [
        {
          "output_type": "stream",
          "text": [
            "Pneumonia: Expected class - 1 ; Predicted class - [[1.]]\n",
            "Pneumonia: Expected class - 1 ; Predicted class - [[1.]]\n",
            "NORMAL: Expected class - 0 ; Predicted class - [[0.]]\n",
            "NORMAL: Expected class - 0 ; Predicted class - [[0.]]\n",
            "One of the instances where the model fails => NORMAL: Expected class - 0 ; Predicted class - [[1.]]\n"
          ],
          "name": "stdout"
        }
      ]
    },
    {
      "cell_type": "markdown",
      "metadata": {
        "id": "bAOuLDfBhVPV",
        "colab_type": "text"
      },
      "source": [
        "### This model can be improved by training the model with more images and intuitively finding the features that are responsible for pneumonia and using them in the cnn."
      ]
    },
    {
      "cell_type": "markdown",
      "metadata": {
        "id": "DkugyjHXlYpL",
        "colab_type": "text"
      },
      "source": [
        "### Perhaps it could save Behrman in O.Henry's Last Leaf, from Pneumonia :)"
      ]
    }
  ]
}